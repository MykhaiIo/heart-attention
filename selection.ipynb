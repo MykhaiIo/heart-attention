{
  "cells": [
    {
      "cell_type": "code",
      "execution_count": 1,
      "source": [
        "import pandas as pd\r\n",
        "from utils.dataloader import DataLoader\r\n",
        "from settings.constants import TRAIN_CSV\r\n",
        "\r\n",
        "train = pd.read_csv(TRAIN_CSV, header = 0)\r\n",
        "\r\n",
        "X_raw = train.drop(\"stroke\", axis=1)\r\n",
        "\r\n",
        "loader = DataLoader()\r\n",
        "loader.fit(X_raw)\r\n",
        "X = loader.load_data()\r\n",
        "y = train[\"stroke\"]"
      ],
      "outputs": [],
      "metadata": {}
    },
    {
      "cell_type": "code",
      "execution_count": 2,
      "source": [
        "X.head()"
      ],
      "outputs": [
        {
          "output_type": "execute_result",
          "data": {
            "text/html": [
              "<div>\n",
              "<style scoped>\n",
              "    .dataframe tbody tr th:only-of-type {\n",
              "        vertical-align: middle;\n",
              "    }\n",
              "\n",
              "    .dataframe tbody tr th {\n",
              "        vertical-align: top;\n",
              "    }\n",
              "\n",
              "    .dataframe thead th {\n",
              "        text-align: right;\n",
              "    }\n",
              "</style>\n",
              "<table border=\"1\" class=\"dataframe\">\n",
              "  <thead>\n",
              "    <tr style=\"text-align: right;\">\n",
              "      <th></th>\n",
              "      <th>age</th>\n",
              "      <th>heart_disease</th>\n",
              "      <th>ever_married</th>\n",
              "      <th>work_type</th>\n",
              "      <th>avg_glucose_level</th>\n",
              "      <th>smoking_status</th>\n",
              "    </tr>\n",
              "  </thead>\n",
              "  <tbody>\n",
              "    <tr>\n",
              "      <th>0</th>\n",
              "      <td>1</td>\n",
              "      <td>0</td>\n",
              "      <td>0</td>\n",
              "      <td>3</td>\n",
              "      <td>0</td>\n",
              "      <td>0</td>\n",
              "    </tr>\n",
              "    <tr>\n",
              "      <th>1</th>\n",
              "      <td>1</td>\n",
              "      <td>0</td>\n",
              "      <td>1</td>\n",
              "      <td>3</td>\n",
              "      <td>0</td>\n",
              "      <td>2</td>\n",
              "    </tr>\n",
              "    <tr>\n",
              "      <th>2</th>\n",
              "      <td>0</td>\n",
              "      <td>0</td>\n",
              "      <td>0</td>\n",
              "      <td>4</td>\n",
              "      <td>0</td>\n",
              "      <td>0</td>\n",
              "    </tr>\n",
              "    <tr>\n",
              "      <th>3</th>\n",
              "      <td>3</td>\n",
              "      <td>0</td>\n",
              "      <td>1</td>\n",
              "      <td>3</td>\n",
              "      <td>0</td>\n",
              "      <td>2</td>\n",
              "    </tr>\n",
              "    <tr>\n",
              "      <th>4</th>\n",
              "      <td>3</td>\n",
              "      <td>0</td>\n",
              "      <td>1</td>\n",
              "      <td>0</td>\n",
              "      <td>0</td>\n",
              "      <td>2</td>\n",
              "    </tr>\n",
              "  </tbody>\n",
              "</table>\n",
              "</div>"
            ],
            "text/plain": [
              "   age  heart_disease  ever_married  work_type  avg_glucose_level  \\\n",
              "0    1              0             0          3                  0   \n",
              "1    1              0             1          3                  0   \n",
              "2    0              0             0          4                  0   \n",
              "3    3              0             1          3                  0   \n",
              "4    3              0             1          0                  0   \n",
              "\n",
              "   smoking_status  \n",
              "0               0  \n",
              "1               2  \n",
              "2               0  \n",
              "3               2  \n",
              "4               2  "
            ]
          },
          "metadata": {},
          "execution_count": 2
        }
      ],
      "metadata": {}
    },
    {
      "cell_type": "code",
      "execution_count": 5,
      "source": [
        "import matplotlib.pyplot as plt\r\n",
        "import seaborn as sns\r\n",
        "\r\n",
        "from sklearn.model_selection import StratifiedShuffleSplit\r\n",
        "from sklearn.metrics import accuracy_score, log_loss, roc_auc_score\r\n",
        "from sklearn.neighbors import KNeighborsClassifier\r\n",
        "from sklearn.svm import SVC\r\n",
        "from sklearn.tree import DecisionTreeClassifier\r\n",
        "from sklearn.ensemble import RandomForestClassifier, AdaBoostClassifier, GradientBoostingClassifier\r\n",
        "from sklearn.naive_bayes import GaussianNB\r\n",
        "from sklearn.discriminant_analysis import LinearDiscriminantAnalysis, QuadraticDiscriminantAnalysis\r\n",
        "from sklearn.linear_model import LogisticRegression\r\n",
        "\r\n",
        "classifiers = [\r\n",
        "    KNeighborsClassifier(3),\r\n",
        "    SVC(),\r\n",
        "    DecisionTreeClassifier(),\r\n",
        "    RandomForestClassifier(),\r\n",
        "    AdaBoostClassifier(),\r\n",
        "    GradientBoostingClassifier(),\r\n",
        "    GaussianNB(),\r\n",
        "    LinearDiscriminantAnalysis(),\r\n",
        "    QuadraticDiscriminantAnalysis(),\r\n",
        "    LogisticRegression()\r\n",
        "]\r\n",
        "\r\n",
        "log_cols = [\"Classifier\", \"Accuracy\"]\r\n",
        "log = pd.DataFrame(columns=log_cols)\r\n",
        "\r\n",
        "sss = StratifiedShuffleSplit(n_splits=10, test_size=0.3, random_state=0)\r\n",
        "\r\n",
        "acc_dict = {}\r\n",
        "\r\n",
        "for train_index, test_index in sss.split(X, y):\r\n",
        "    X_train, X_test = X.iloc[train_index], X.iloc[test_index]\r\n",
        "    y_train, y_test = y.iloc[train_index], y.iloc[test_index]\r\n",
        "    \r\n",
        "    for clf in classifiers:\r\n",
        "        name = clf.__class__.__name__\r\n",
        "        clf.fit(X_train, y_train)\r\n",
        "        train_predictions = clf.predict(X_test)\r\n",
        "        acc = accuracy_score(y_test, train_predictions)\r\n",
        "        \r\n",
        "        if name in acc_dict:\r\n",
        "            acc_dict[name] += acc\r\n",
        "        else:\r\n",
        "            acc_dict[name] = acc\r\n",
        "\r\n",
        "for clf in acc_dict:\r\n",
        "    acc_dict[clf] = acc_dict[clf] / 10.0\r\n",
        "    log_entry = pd.DataFrame([[clf, acc_dict[clf]]], columns = log_cols)\r\n",
        "    log = log.append(log_entry)\r\n",
        "\r\n",
        "plt.xlabel('Accuracy')\r\n",
        "plt.title('Classifier Accuracy')\r\n",
        "\r\n",
        "sns.set_color_codes(\"muted\")\r\n",
        "sns.barplot(x = 'Accuracy', y = 'Classifier', data = log, color = \"b\")\r\n",
        "log"
      ],
      "outputs": [
        {
          "output_type": "execute_result",
          "data": {
            "text/html": [
              "<div>\n",
              "<style scoped>\n",
              "    .dataframe tbody tr th:only-of-type {\n",
              "        vertical-align: middle;\n",
              "    }\n",
              "\n",
              "    .dataframe tbody tr th {\n",
              "        vertical-align: top;\n",
              "    }\n",
              "\n",
              "    .dataframe thead th {\n",
              "        text-align: right;\n",
              "    }\n",
              "</style>\n",
              "<table border=\"1\" class=\"dataframe\">\n",
              "  <thead>\n",
              "    <tr style=\"text-align: right;\">\n",
              "      <th></th>\n",
              "      <th>Classifier</th>\n",
              "      <th>Accuracy</th>\n",
              "    </tr>\n",
              "  </thead>\n",
              "  <tbody>\n",
              "    <tr>\n",
              "      <th>0</th>\n",
              "      <td>KNeighborsClassifier</td>\n",
              "      <td>0.935697</td>\n",
              "    </tr>\n",
              "    <tr>\n",
              "      <th>0</th>\n",
              "      <td>SVC</td>\n",
              "      <td>0.949470</td>\n",
              "    </tr>\n",
              "    <tr>\n",
              "      <th>0</th>\n",
              "      <td>DecisionTreeClassifier</td>\n",
              "      <td>0.944417</td>\n",
              "    </tr>\n",
              "    <tr>\n",
              "      <th>0</th>\n",
              "      <td>RandomForestClassifier</td>\n",
              "      <td>0.943358</td>\n",
              "    </tr>\n",
              "    <tr>\n",
              "      <th>0</th>\n",
              "      <td>AdaBoostClassifier</td>\n",
              "      <td>0.949389</td>\n",
              "    </tr>\n",
              "    <tr>\n",
              "      <th>0</th>\n",
              "      <td>GradientBoostingClassifier</td>\n",
              "      <td>0.948411</td>\n",
              "    </tr>\n",
              "    <tr>\n",
              "      <th>0</th>\n",
              "      <td>GaussianNB</td>\n",
              "      <td>0.882885</td>\n",
              "    </tr>\n",
              "    <tr>\n",
              "      <th>0</th>\n",
              "      <td>LinearDiscriminantAnalysis</td>\n",
              "      <td>0.943439</td>\n",
              "    </tr>\n",
              "    <tr>\n",
              "      <th>0</th>\n",
              "      <td>QuadraticDiscriminantAnalysis</td>\n",
              "      <td>0.900407</td>\n",
              "    </tr>\n",
              "    <tr>\n",
              "      <th>0</th>\n",
              "      <td>LogisticRegression</td>\n",
              "      <td>0.949470</td>\n",
              "    </tr>\n",
              "  </tbody>\n",
              "</table>\n",
              "</div>"
            ],
            "text/plain": [
              "                      Classifier  Accuracy\n",
              "0           KNeighborsClassifier  0.935697\n",
              "0                            SVC  0.949470\n",
              "0         DecisionTreeClassifier  0.944417\n",
              "0         RandomForestClassifier  0.943358\n",
              "0             AdaBoostClassifier  0.949389\n",
              "0     GradientBoostingClassifier  0.948411\n",
              "0                     GaussianNB  0.882885\n",
              "0     LinearDiscriminantAnalysis  0.943439\n",
              "0  QuadraticDiscriminantAnalysis  0.900407\n",
              "0             LogisticRegression  0.949470"
            ]
          },
          "metadata": {},
          "execution_count": 5
        },
        {
          "output_type": "display_data",
          "data": {
            "image/png": "[encoded data removed]",
            "text/plain": [
              "<Figure size 432x288 with 1 Axes>"
            ]
          },
          "metadata": {
            "needs_background": "light"
          }
        }
      ],
      "metadata": {}
    },
    {
      "cell_type": "code",
      "execution_count": 6,
      "source": [
        "import pickle\r\n",
        "import json\r\n",
        "import pandas as pd\r\n",
        "from sklearn.svm import SVC\r\n",
        "\r\n",
        "from utils.dataloader import DataLoader \r\n",
        "from settings.constants import TRAIN_CSV\r\n",
        "\r\n",
        "\r\n",
        "with open('settings/specifications.json') as f:\r\n",
        "    specifications = json.load(f)\r\n",
        "\r\n",
        "raw_train = pd.read_csv(TRAIN_CSV)\r\n",
        "x_columns = specifications['description']['X']\r\n",
        "y_column = specifications['description']['y']\r\n",
        "\r\n",
        "X_raw = raw_train[x_columns]\r\n",
        "\r\n",
        "loader = DataLoader()\r\n",
        "loader.fit(X_raw)\r\n",
        "X = loader.load_data()\r\n",
        "y = raw_train.stroke\r\n",
        "\r\n",
        "model = SVC()\r\n",
        "model.fit(X, y)\r\n",
        "with open('models/SVC.pickle', 'wb')as f:\r\n",
        "    pickle.dump(model, f)"
      ],
      "outputs": [],
      "metadata": {}
    },
    {
      "cell_type": "code",
      "execution_count": 7,
      "source": [
        "import pickle\r\n",
        "import json\r\n",
        "import pandas as pd\r\n",
        "from sklearn.svm import SVC\r\n",
        "\r\n",
        "from utils.dataloader import DataLoader \r\n",
        "from settings.constants import VAL_CSV\r\n",
        "\r\n",
        "\r\n",
        "with open('settings/specifications.json') as f:\r\n",
        "    specifications = json.load(f)\r\n",
        "\r\n",
        "x_columns = specifications['description']['X']\r\n",
        "y_column = specifications['description']['y']\r\n",
        "\r\n",
        "raw_val = pd.read_csv(VAL_CSV)\r\n",
        "x_raw = raw_val[x_columns]\r\n",
        "\r\n",
        "loader = DataLoader()\r\n",
        "loader.fit(x_raw)\r\n",
        "X = loader.load_data()\r\n",
        "y = raw_val.stroke\r\n",
        "\r\n",
        "loaded_model = pickle.load(open('models/SVC.pickle', 'rb'))\r\n",
        "loaded_model.score(X, y)"
      ],
      "outputs": [
        {
          "output_type": "execute_result",
          "data": {
            "text/plain": [
              "0.9579256360078278"
            ]
          },
          "metadata": {},
          "execution_count": 7
        }
      ],
      "metadata": {}
    },
    {
      "cell_type": "code",
      "execution_count": 8,
      "source": [
        "from sklearn.metrics import confusion_matrix, plot_confusion_matrix\r\n",
        "import matplotlib.pyplot as plt\r\n",
        "\r\n",
        "print(f'Normalized CM')\r\n",
        "print(confusion_matrix(y,\r\n",
        "                       loaded_model.predict(X),\r\n",
        "                       normalize='true'))\r\n",
        "disp = plot_confusion_matrix(loaded_model, X, y,\r\n",
        "                             display_labels=['Rating <5', 'Rating ≥ 7'],\r\n",
        "                             cmap=plt.cm.Blues)\r\n",
        "disp.ax_.set_title('SVC')"
      ],
      "outputs": [
        {
          "output_type": "stream",
          "name": "stdout",
          "text": [
            "Normalized CM\n",
            "[[1. 0.]\n",
            " [1. 0.]]\n"
          ]
        },
        {
          "output_type": "execute_result",
          "data": {
            "text/plain": [
              "Text(0.5, 1.0, 'SVC')"
            ]
          },
          "metadata": {},
          "execution_count": 8
        },
        {
          "output_type": "display_data",
          "data": {
            "image/png": "[encoded data removed]",
            "text/plain": [
              "<Figure size 432x288 with 2 Axes>"
            ]
          },
          "metadata": {
            "needs_background": "light"
          }
        }
      ],
      "metadata": {}
    }
  ],
  "metadata": {
    "orig_nbformat": 4,
    "language_info": {
      "name": "python",
      "version": "3.8.10",
      "mimetype": "text/x-python",
      "codemirror_mode": {
        "name": "ipython",
        "version": 3
      },
      "pygments_lexer": "ipython3",
      "nbconvert_exporter": "python",
      "file_extension": ".py"
    },
    "kernelspec": {
      "name": "python3",
      "display_name": "Python 3.8.10 64-bit (windows store)"
    },
    "interpreter": {
      "hash": "4ff4cb118d5c498e5cb6aee87412fd09a2235c38e3ca5654c5242209a5324996"
    }
  },
  "nbformat": 4,
  "nbformat_minor": 2
}