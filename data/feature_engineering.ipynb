{
 "cells": [
  {
   "cell_type": "code",
   "execution_count": null,
   "source": [
    "import numpy as np\r\n",
    "import pandas as pd\r\n",
    "import re as re\r\n",
    "\r\n",
    "from settings.constants import TRAIN_CSV, VAL_CSV \r\n",
    "\r\n",
    "train = pd.read_csv(TRAIN_CSV, header = 0, dtype={'Age': np.float64})\r\n",
    "val  = pd.read_csv(VAL_CSV , header = 0, dtype={'Age': np.float64})\r\n",
    "full_data = [train, val]\r\n",
    "\r\n",
    "train.head()"
   ],
   "outputs": [],
   "metadata": {}
  }
 ],
 "metadata": {
  "orig_nbformat": 4,
  "language_info": {
   "name": "python"
  }
 },
 "nbformat": 4,
 "nbformat_minor": 2
}